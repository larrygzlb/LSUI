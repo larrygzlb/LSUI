{
 "cells": [
  {
   "cell_type": "code",
   "execution_count": 1,
   "metadata": {},
   "outputs": [],
   "source": [
    "import cv2"
   ]
  },
  {
   "cell_type": "code",
   "execution_count": 2,
   "metadata": {},
   "outputs": [
    {
     "name": "stdout",
     "output_type": "stream",
     "text": [
      "4.8.1\n"
     ]
    }
   ],
   "source": [
    "print(cv2.__version__)"
   ]
  },
  {
   "cell_type": "code",
   "execution_count": 2,
   "metadata": {},
   "outputs": [],
   "source": [
    "import os\n",
    "import shutil\n",
    "\n",
    "def copy_images(src_folder, dest_folder, ref_folder):\n",
    "    for img_name in os.listdir(ref_folder):\n",
    "        src_path = os.path.join(src_folder, img_name)\n",
    "        dest_path = os.path.join(dest_folder, img_name)\n",
    "        if os.path.exists(src_path):\n",
    "            shutil.copy(src_path, dest_path)\n",
    "\n",
    "# 设置文件夹路径\n",
    "gt_folder = 'GT'\n",
    "train_folder = 'train'\n",
    "test_folder = 'test'\n",
    "train_truth_folder = 'train_truth'\n",
    "test_truth_folder = 'test_truth'\n",
    "\n",
    "# 复制图片\n",
    "copy_images(gt_folder, train_truth_folder, train_folder)\n",
    "copy_images(gt_folder, test_truth_folder, test_folder)\n"
   ]
  },
  {
   "cell_type": "code",
   "execution_count": null,
   "metadata": {},
   "outputs": [],
   "source": []
  }
 ],
 "metadata": {
  "kernelspec": {
   "display_name": "inpainting-basic",
   "language": "python",
   "name": "python3"
  },
  "language_info": {
   "codemirror_mode": {
    "name": "ipython",
    "version": 3
   },
   "file_extension": ".py",
   "mimetype": "text/x-python",
   "name": "python",
   "nbconvert_exporter": "python",
   "pygments_lexer": "ipython3",
   "version": "3.11.5"
  }
 },
 "nbformat": 4,
 "nbformat_minor": 2
}
